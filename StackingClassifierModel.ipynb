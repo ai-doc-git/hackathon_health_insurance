{
 "cells": [
  {
   "cell_type": "markdown",
   "id": "adverse-gabriel",
   "metadata": {},
   "source": [
    "# JOB-A-THON\n",
    "## Health Insurance Lead Prediction"
   ]
  },
  {
   "cell_type": "markdown",
   "id": "executive-vanilla",
   "metadata": {},
   "source": [
    "#### 1. First, we will import all the python libraries that are required for this, which include NumPy for numerical calculations and scientific computing, Pandas for handling data and Matplotlib and Seaborn for visualization, sklearn is used as the most useful and robust library for machine learning."
   ]
  },
  {
   "cell_type": "code",
   "execution_count": 1,
   "id": "living-supervision",
   "metadata": {},
   "outputs": [],
   "source": [
    "import numpy as np\n",
    "import pandas as pd\n",
    "import seaborn as sns\n",
    "import lightgbm as lgb\n",
    "from matplotlib import pyplot as plt\n",
    "from sklearn import preprocessing\n",
    "from sklearn.model_selection import train_test_split\n",
    "from sklearn.metrics import accuracy_score\n",
    "%matplotlib inline\n",
    "import warnings\n",
    "from numpy import mean\n",
    "from numpy import std\n",
    "from sklearn.datasets import make_classification\n",
    "from sklearn.model_selection import cross_val_score\n",
    "from sklearn.model_selection import RepeatedStratifiedKFold\n",
    "from sklearn.linear_model import LogisticRegression\n",
    "from sklearn.tree import DecisionTreeClassifier\n",
    "from sklearn.naive_bayes import GaussianNB\n",
    "from sklearn.ensemble import StackingClassifier\n",
    "from sklearn.linear_model import RidgeClassifier, SGDClassifier\n",
    "from sklearn.ensemble import RandomForestClassifier, GradientBoostingClassifier, ExtraTreesClassifier \n",
    "from sklearn.ensemble import BaggingClassifier, AdaBoostClassifier\n",
    "from sklearn.gaussian_process import GaussianProcessClassifier\n",
    "from sklearn.tree import DecisionTreeClassifier\n",
    "from sklearn import metrics\n",
    "from sklearn.metrics import roc_auc_score\n",
    "warnings.filterwarnings('ignore')"
   ]
  },
  {
   "cell_type": "markdown",
   "id": "unlikely-drawing",
   "metadata": {},
   "source": [
    "#### 2. Then we will load the data into the pandas dataframe."
   ]
  },
  {
   "cell_type": "code",
   "execution_count": 2,
   "id": "lonely-vintage",
   "metadata": {},
   "outputs": [],
   "source": [
    "df_train = pd.read_csv(\"C:\\\\Users\\\\nkr4n\\\\Documents\\\\JupyterNotebooks\\\\files\\\\jobathon\\\\train.csv\")\n",
    "df_test = pd.read_csv(\"C:\\\\Users\\\\nkr4n\\\\Documents\\\\JupyterNotebooks\\\\files\\\\jobathon\\\\test.csv\")"
   ]
  },
  {
   "cell_type": "code",
   "execution_count": 3,
   "id": "passive-music",
   "metadata": {},
   "outputs": [
    {
     "name": "stdout",
     "output_type": "stream",
     "text": [
      "0\n",
      "0\n"
     ]
    }
   ],
   "source": [
    "df_train.drop_duplicates(inplace=True)\n",
    "df_test.drop_duplicates(inplace=True)\n",
    "dupTrain = df_train.duplicated()\n",
    "print(dupTrain.sum())\n",
    "dupTest = df_test.duplicated()\n",
    "print(dupTest.sum())"
   ]
  },
  {
   "cell_type": "code",
   "execution_count": 4,
   "id": "missing-intelligence",
   "metadata": {},
   "outputs": [],
   "source": [
    "test_id_col = df_test[\"ID\"]"
   ]
  },
  {
   "cell_type": "markdown",
   "id": "together-prospect",
   "metadata": {},
   "source": [
    "#### 3. Then we will set a new column as train_flag which will be used for concatenating the two dataframes."
   ]
  },
  {
   "cell_type": "code",
   "execution_count": 5,
   "id": "comfortable-bench",
   "metadata": {},
   "outputs": [
    {
     "name": "stdout",
     "output_type": "stream",
     "text": [
      "(50882, 15) (21805, 15)\n",
      "(72687, 15)\n"
     ]
    }
   ],
   "source": [
    "df_train['train_flag'] = 1\n",
    "df_test['train_flag'] = 0\n",
    "df_test['Response'] = None\n",
    "print(df_train.shape, df_test.shape)\n",
    "\n",
    "df_data = pd.concat((df_train, df_test))\n",
    "print(df_data.shape)"
   ]
  },
  {
   "cell_type": "code",
   "execution_count": 6,
   "id": "german-complaint",
   "metadata": {},
   "outputs": [],
   "source": [
    "df_data.drop(['ID'],axis=1,inplace=True)"
   ]
  },
  {
   "cell_type": "markdown",
   "id": "grand-solution",
   "metadata": {},
   "source": [
    "### EDA\n",
    "#### We can check whether our data contains any missing values which we need to handle"
   ]
  },
  {
   "cell_type": "code",
   "execution_count": 7,
   "id": "useful-bargain",
   "metadata": {},
   "outputs": [
    {
     "data": {
      "text/plain": [
       "City_Code                      0\n",
       "Region_Code                    0\n",
       "Accomodation_Type              0\n",
       "Reco_Insurance_Type            0\n",
       "Upper_Age                      0\n",
       "Lower_Age                      0\n",
       "Is_Spouse                      0\n",
       "Health Indicator           16718\n",
       "Holding_Policy_Duration    28854\n",
       "Holding_Policy_Type        28854\n",
       "Reco_Policy_Cat                0\n",
       "Reco_Policy_Premium            0\n",
       "Response                   21805\n",
       "train_flag                     0\n",
       "dtype: int64"
      ]
     },
     "execution_count": 7,
     "metadata": {},
     "output_type": "execute_result"
    }
   ],
   "source": [
    "df_data.isnull().sum()"
   ]
  },
  {
   "cell_type": "markdown",
   "id": "partial-andorra",
   "metadata": {},
   "source": [
    "#### We can check the various characteristics of the data frame such as count of non-null features, dtype of features, memory usage etc."
   ]
  },
  {
   "cell_type": "code",
   "execution_count": 8,
   "id": "virtual-newport",
   "metadata": {},
   "outputs": [
    {
     "name": "stdout",
     "output_type": "stream",
     "text": [
      "<class 'pandas.core.frame.DataFrame'>\n",
      "Int64Index: 72687 entries, 0 to 21804\n",
      "Data columns (total 14 columns):\n",
      " #   Column                   Non-Null Count  Dtype  \n",
      "---  ------                   --------------  -----  \n",
      " 0   City_Code                72687 non-null  object \n",
      " 1   Region_Code              72687 non-null  int64  \n",
      " 2   Accomodation_Type        72687 non-null  object \n",
      " 3   Reco_Insurance_Type      72687 non-null  object \n",
      " 4   Upper_Age                72687 non-null  int64  \n",
      " 5   Lower_Age                72687 non-null  int64  \n",
      " 6   Is_Spouse                72687 non-null  object \n",
      " 7   Health Indicator         55969 non-null  object \n",
      " 8   Holding_Policy_Duration  43833 non-null  object \n",
      " 9   Holding_Policy_Type      43833 non-null  float64\n",
      " 10  Reco_Policy_Cat          72687 non-null  int64  \n",
      " 11  Reco_Policy_Premium      72687 non-null  float64\n",
      " 12  Response                 50882 non-null  object \n",
      " 13  train_flag               72687 non-null  int64  \n",
      "dtypes: float64(2), int64(5), object(7)\n",
      "memory usage: 8.3+ MB\n"
     ]
    }
   ],
   "source": [
    "df_data.info()"
   ]
  },
  {
   "cell_type": "markdown",
   "id": "dependent-account",
   "metadata": {},
   "source": [
    "#### We can observe the dataset by checking few of the rows using head() method, which returns the first five records from the dataset."
   ]
  },
  {
   "cell_type": "code",
   "execution_count": 9,
   "id": "optimum-collectible",
   "metadata": {},
   "outputs": [
    {
     "data": {
      "text/html": [
       "<div>\n",
       "<style scoped>\n",
       "    .dataframe tbody tr th:only-of-type {\n",
       "        vertical-align: middle;\n",
       "    }\n",
       "\n",
       "    .dataframe tbody tr th {\n",
       "        vertical-align: top;\n",
       "    }\n",
       "\n",
       "    .dataframe thead th {\n",
       "        text-align: right;\n",
       "    }\n",
       "</style>\n",
       "<table border=\"1\" class=\"dataframe\">\n",
       "  <thead>\n",
       "    <tr style=\"text-align: right;\">\n",
       "      <th></th>\n",
       "      <th>City_Code</th>\n",
       "      <th>Region_Code</th>\n",
       "      <th>Accomodation_Type</th>\n",
       "      <th>Reco_Insurance_Type</th>\n",
       "      <th>Upper_Age</th>\n",
       "      <th>Lower_Age</th>\n",
       "      <th>Is_Spouse</th>\n",
       "      <th>Health Indicator</th>\n",
       "      <th>Holding_Policy_Duration</th>\n",
       "      <th>Holding_Policy_Type</th>\n",
       "      <th>Reco_Policy_Cat</th>\n",
       "      <th>Reco_Policy_Premium</th>\n",
       "      <th>Response</th>\n",
       "      <th>train_flag</th>\n",
       "    </tr>\n",
       "  </thead>\n",
       "  <tbody>\n",
       "    <tr>\n",
       "      <th>0</th>\n",
       "      <td>C3</td>\n",
       "      <td>3213</td>\n",
       "      <td>Rented</td>\n",
       "      <td>Individual</td>\n",
       "      <td>36</td>\n",
       "      <td>36</td>\n",
       "      <td>No</td>\n",
       "      <td>X1</td>\n",
       "      <td>14+</td>\n",
       "      <td>3.0</td>\n",
       "      <td>22</td>\n",
       "      <td>11628.0</td>\n",
       "      <td>0</td>\n",
       "      <td>1</td>\n",
       "    </tr>\n",
       "    <tr>\n",
       "      <th>1</th>\n",
       "      <td>C5</td>\n",
       "      <td>1117</td>\n",
       "      <td>Owned</td>\n",
       "      <td>Joint</td>\n",
       "      <td>75</td>\n",
       "      <td>22</td>\n",
       "      <td>No</td>\n",
       "      <td>X2</td>\n",
       "      <td>NaN</td>\n",
       "      <td>NaN</td>\n",
       "      <td>22</td>\n",
       "      <td>30510.0</td>\n",
       "      <td>0</td>\n",
       "      <td>1</td>\n",
       "    </tr>\n",
       "    <tr>\n",
       "      <th>2</th>\n",
       "      <td>C5</td>\n",
       "      <td>3732</td>\n",
       "      <td>Owned</td>\n",
       "      <td>Individual</td>\n",
       "      <td>32</td>\n",
       "      <td>32</td>\n",
       "      <td>No</td>\n",
       "      <td>NaN</td>\n",
       "      <td>1.0</td>\n",
       "      <td>1.0</td>\n",
       "      <td>19</td>\n",
       "      <td>7450.0</td>\n",
       "      <td>1</td>\n",
       "      <td>1</td>\n",
       "    </tr>\n",
       "    <tr>\n",
       "      <th>3</th>\n",
       "      <td>C24</td>\n",
       "      <td>4378</td>\n",
       "      <td>Owned</td>\n",
       "      <td>Joint</td>\n",
       "      <td>52</td>\n",
       "      <td>48</td>\n",
       "      <td>No</td>\n",
       "      <td>X1</td>\n",
       "      <td>14+</td>\n",
       "      <td>3.0</td>\n",
       "      <td>19</td>\n",
       "      <td>17780.0</td>\n",
       "      <td>0</td>\n",
       "      <td>1</td>\n",
       "    </tr>\n",
       "    <tr>\n",
       "      <th>4</th>\n",
       "      <td>C8</td>\n",
       "      <td>2190</td>\n",
       "      <td>Rented</td>\n",
       "      <td>Individual</td>\n",
       "      <td>44</td>\n",
       "      <td>44</td>\n",
       "      <td>No</td>\n",
       "      <td>X2</td>\n",
       "      <td>3.0</td>\n",
       "      <td>1.0</td>\n",
       "      <td>16</td>\n",
       "      <td>10404.0</td>\n",
       "      <td>0</td>\n",
       "      <td>1</td>\n",
       "    </tr>\n",
       "  </tbody>\n",
       "</table>\n",
       "</div>"
      ],
      "text/plain": [
       "  City_Code  Region_Code Accomodation_Type Reco_Insurance_Type  Upper_Age  \\\n",
       "0        C3         3213            Rented          Individual         36   \n",
       "1        C5         1117             Owned               Joint         75   \n",
       "2        C5         3732             Owned          Individual         32   \n",
       "3       C24         4378             Owned               Joint         52   \n",
       "4        C8         2190            Rented          Individual         44   \n",
       "\n",
       "   Lower_Age Is_Spouse Health Indicator Holding_Policy_Duration  \\\n",
       "0         36        No               X1                     14+   \n",
       "1         22        No               X2                     NaN   \n",
       "2         32        No              NaN                     1.0   \n",
       "3         48        No               X1                     14+   \n",
       "4         44        No               X2                     3.0   \n",
       "\n",
       "   Holding_Policy_Type  Reco_Policy_Cat  Reco_Policy_Premium Response  \\\n",
       "0                  3.0               22              11628.0        0   \n",
       "1                  NaN               22              30510.0        0   \n",
       "2                  1.0               19               7450.0        1   \n",
       "3                  3.0               19              17780.0        0   \n",
       "4                  1.0               16              10404.0        0   \n",
       "\n",
       "   train_flag  \n",
       "0           1  \n",
       "1           1  \n",
       "2           1  \n",
       "3           1  \n",
       "4           1  "
      ]
     },
     "execution_count": 9,
     "metadata": {},
     "output_type": "execute_result"
    }
   ],
   "source": [
    "df_data.head()"
   ]
  },
  {
   "cell_type": "code",
   "execution_count": 10,
   "id": "unlikely-produce",
   "metadata": {},
   "outputs": [
    {
     "data": {
      "text/html": [
       "<div>\n",
       "<style scoped>\n",
       "    .dataframe tbody tr th:only-of-type {\n",
       "        vertical-align: middle;\n",
       "    }\n",
       "\n",
       "    .dataframe tbody tr th {\n",
       "        vertical-align: top;\n",
       "    }\n",
       "\n",
       "    .dataframe thead th {\n",
       "        text-align: right;\n",
       "    }\n",
       "</style>\n",
       "<table border=\"1\" class=\"dataframe\">\n",
       "  <thead>\n",
       "    <tr style=\"text-align: right;\">\n",
       "      <th></th>\n",
       "      <th>Region_Code</th>\n",
       "      <th>Upper_Age</th>\n",
       "      <th>Lower_Age</th>\n",
       "      <th>Holding_Policy_Type</th>\n",
       "      <th>Reco_Policy_Cat</th>\n",
       "      <th>Reco_Policy_Premium</th>\n",
       "      <th>train_flag</th>\n",
       "    </tr>\n",
       "  </thead>\n",
       "  <tbody>\n",
       "    <tr>\n",
       "      <th>count</th>\n",
       "      <td>72687.000000</td>\n",
       "      <td>72687.000000</td>\n",
       "      <td>72687.000000</td>\n",
       "      <td>43833.000000</td>\n",
       "      <td>72687.000000</td>\n",
       "      <td>72687.000000</td>\n",
       "      <td>72687.000000</td>\n",
       "    </tr>\n",
       "    <tr>\n",
       "      <th>mean</th>\n",
       "      <td>1737.573101</td>\n",
       "      <td>44.862713</td>\n",
       "      <td>42.741632</td>\n",
       "      <td>2.439486</td>\n",
       "      <td>15.122140</td>\n",
       "      <td>14194.856472</td>\n",
       "      <td>0.700015</td>\n",
       "    </tr>\n",
       "    <tr>\n",
       "      <th>std</th>\n",
       "      <td>1428.388402</td>\n",
       "      <td>17.293563</td>\n",
       "      <td>17.304194</td>\n",
       "      <td>1.029450</td>\n",
       "      <td>6.329295</td>\n",
       "      <td>6562.564815</td>\n",
       "      <td>0.458254</td>\n",
       "    </tr>\n",
       "    <tr>\n",
       "      <th>min</th>\n",
       "      <td>1.000000</td>\n",
       "      <td>18.000000</td>\n",
       "      <td>16.000000</td>\n",
       "      <td>1.000000</td>\n",
       "      <td>1.000000</td>\n",
       "      <td>2152.000000</td>\n",
       "      <td>0.000000</td>\n",
       "    </tr>\n",
       "    <tr>\n",
       "      <th>25%</th>\n",
       "      <td>527.000000</td>\n",
       "      <td>28.000000</td>\n",
       "      <td>27.000000</td>\n",
       "      <td>1.000000</td>\n",
       "      <td>12.000000</td>\n",
       "      <td>9254.000000</td>\n",
       "      <td>0.000000</td>\n",
       "    </tr>\n",
       "    <tr>\n",
       "      <th>50%</th>\n",
       "      <td>1391.000000</td>\n",
       "      <td>44.000000</td>\n",
       "      <td>40.000000</td>\n",
       "      <td>3.000000</td>\n",
       "      <td>17.000000</td>\n",
       "      <td>13200.000000</td>\n",
       "      <td>1.000000</td>\n",
       "    </tr>\n",
       "    <tr>\n",
       "      <th>75%</th>\n",
       "      <td>2681.000000</td>\n",
       "      <td>59.000000</td>\n",
       "      <td>57.000000</td>\n",
       "      <td>3.000000</td>\n",
       "      <td>20.000000</td>\n",
       "      <td>18144.000000</td>\n",
       "      <td>1.000000</td>\n",
       "    </tr>\n",
       "    <tr>\n",
       "      <th>max</th>\n",
       "      <td>6194.000000</td>\n",
       "      <td>75.000000</td>\n",
       "      <td>75.000000</td>\n",
       "      <td>4.000000</td>\n",
       "      <td>22.000000</td>\n",
       "      <td>43776.000000</td>\n",
       "      <td>1.000000</td>\n",
       "    </tr>\n",
       "  </tbody>\n",
       "</table>\n",
       "</div>"
      ],
      "text/plain": [
       "        Region_Code     Upper_Age     Lower_Age  Holding_Policy_Type  \\\n",
       "count  72687.000000  72687.000000  72687.000000         43833.000000   \n",
       "mean    1737.573101     44.862713     42.741632             2.439486   \n",
       "std     1428.388402     17.293563     17.304194             1.029450   \n",
       "min        1.000000     18.000000     16.000000             1.000000   \n",
       "25%      527.000000     28.000000     27.000000             1.000000   \n",
       "50%     1391.000000     44.000000     40.000000             3.000000   \n",
       "75%     2681.000000     59.000000     57.000000             3.000000   \n",
       "max     6194.000000     75.000000     75.000000             4.000000   \n",
       "\n",
       "       Reco_Policy_Cat  Reco_Policy_Premium    train_flag  \n",
       "count     72687.000000         72687.000000  72687.000000  \n",
       "mean         15.122140         14194.856472      0.700015  \n",
       "std           6.329295          6562.564815      0.458254  \n",
       "min           1.000000          2152.000000      0.000000  \n",
       "25%          12.000000          9254.000000      0.000000  \n",
       "50%          17.000000         13200.000000      1.000000  \n",
       "75%          20.000000         18144.000000      1.000000  \n",
       "max          22.000000         43776.000000      1.000000  "
      ]
     },
     "execution_count": 10,
     "metadata": {},
     "output_type": "execute_result"
    }
   ],
   "source": [
    "df_data.describe()"
   ]
  },
  {
   "cell_type": "markdown",
   "id": "medieval-hydrogen",
   "metadata": {},
   "source": [
    "#### We use the method of binning which is used to create bins for continuous variables where continuous variables are converted to categorical variables. Because Region_Code contains a lot of unique values so its better to bin them in groups."
   ]
  },
  {
   "cell_type": "code",
   "execution_count": 11,
   "id": "sorted-daisy",
   "metadata": {},
   "outputs": [],
   "source": [
    "df_data['Region_Code_Bins']=pd.cut(df_data['Region_Code'],bins=[1,1000,2000,3000,4000,5000,6000,7000],labels=[\"1-1000\",\"1000-2000\",\"2000-3000\",\"3000-4000\",\"4000-5000\",\"5000-6000\",\"6000-7000\"])"
   ]
  },
  {
   "cell_type": "code",
   "execution_count": 12,
   "id": "floral-indicator",
   "metadata": {},
   "outputs": [],
   "source": [
    "df_data = pd.get_dummies(data=df_data,columns=['Region_Code_Bins'])\n",
    "df_data = df_data.drop(['Region_Code'], axis=1)"
   ]
  },
  {
   "cell_type": "markdown",
   "id": "attended-trading",
   "metadata": {},
   "source": [
    "#### Handle the missing values \n",
    "We can do that by using few techniques, which are\n",
    "Drop the missing values — If the dataset is huge and missing values are very few then we can directly drop the values, because it will not have much impact.\n",
    "Replace with mean values — We can replace the missing values with mean values, but this is not advisable in case if the data has outliers.\n",
    "Replace with median values — We can replace the missing values with median values, and it is recommended in case if the data has outliers.\n",
    "Replace with mode values — We can do this in case of Categorical feature.\n",
    "Regression — It can be used to predict the null value using other details from the dataset.\n",
    "#### For our case, we will handle missing values by replacing it with mode value."
   ]
  },
  {
   "cell_type": "code",
   "execution_count": 13,
   "id": "affecting-audit",
   "metadata": {},
   "outputs": [],
   "source": [
    "df_data['Health Indicator'] = np.where(df_data['Health Indicator'].isna(),df_data['Health Indicator'].mode()[0],df_data['Health Indicator'])\n",
    "df_data['Holding_Policy_Duration'].replace({\"14+\":\"15.0\"},inplace=True)"
   ]
  },
  {
   "cell_type": "code",
   "execution_count": 14,
   "id": "cosmetic-retail",
   "metadata": {},
   "outputs": [
    {
     "data": {
      "text/plain": [
       "0     15.0\n",
       "1      NaN\n",
       "2      1.0\n",
       "3     15.0\n",
       "4      3.0\n",
       "5      5.0\n",
       "6      NaN\n",
       "7      9.0\n",
       "8     14.0\n",
       "9      7.0\n",
       "10     NaN\n",
       "11     3.0\n",
       "12     1.0\n",
       "13     NaN\n",
       "14     2.0\n",
       "15     NaN\n",
       "16    11.0\n",
       "17     NaN\n",
       "18     1.0\n",
       "19     NaN\n",
       "20     3.0\n",
       "21     NaN\n",
       "22     NaN\n",
       "23     NaN\n",
       "24     1.0\n",
       "25     NaN\n",
       "26     NaN\n",
       "27     NaN\n",
       "28     NaN\n",
       "29     7.0\n",
       "30     3.0\n",
       "31     NaN\n",
       "32     NaN\n",
       "33     2.0\n",
       "34     NaN\n",
       "35     NaN\n",
       "36     5.0\n",
       "37     NaN\n",
       "38     1.0\n",
       "39     3.0\n",
       "40    15.0\n",
       "41     3.0\n",
       "42     2.0\n",
       "43    14.0\n",
       "44     NaN\n",
       "45    10.0\n",
       "46     NaN\n",
       "47    15.0\n",
       "48     8.0\n",
       "49     7.0\n",
       "Name: Holding_Policy_Duration, dtype: object"
      ]
     },
     "execution_count": 14,
     "metadata": {},
     "output_type": "execute_result"
    }
   ],
   "source": [
    "df_data['Holding_Policy_Duration'].head(50)"
   ]
  },
  {
   "cell_type": "code",
   "execution_count": 15,
   "id": "medium-shaft",
   "metadata": {},
   "outputs": [],
   "source": [
    "df_data['Holding_Policy_Type'].fillna(df_data['Holding_Policy_Type'].mode()[0], inplace=True)\n",
    "df_data['Holding_Policy_Duration'].fillna(df_data['Holding_Policy_Duration'].median(), inplace=True)\n",
    "df_data['City_Code'] = df_data['City_Code'].astype(str)\n",
    "df_data['Reco_Policy_Cat'] = df_data['Reco_Policy_Cat'].astype(str)"
   ]
  },
  {
   "cell_type": "code",
   "execution_count": 16,
   "id": "external-nowhere",
   "metadata": {},
   "outputs": [
    {
     "data": {
      "text/plain": [
       "0     15.0\n",
       "1      5.0\n",
       "2      1.0\n",
       "3     15.0\n",
       "4      3.0\n",
       "5      5.0\n",
       "6      5.0\n",
       "7      9.0\n",
       "8     14.0\n",
       "9      7.0\n",
       "10     5.0\n",
       "11     3.0\n",
       "12     1.0\n",
       "13     5.0\n",
       "14     2.0\n",
       "15     5.0\n",
       "16    11.0\n",
       "17     5.0\n",
       "18     1.0\n",
       "19     5.0\n",
       "20     3.0\n",
       "21     5.0\n",
       "22     5.0\n",
       "23     5.0\n",
       "24     1.0\n",
       "25     5.0\n",
       "26     5.0\n",
       "27     5.0\n",
       "28     5.0\n",
       "29     7.0\n",
       "30     3.0\n",
       "31     5.0\n",
       "32     5.0\n",
       "33     2.0\n",
       "34     5.0\n",
       "35     5.0\n",
       "36     5.0\n",
       "37     5.0\n",
       "38     1.0\n",
       "39     3.0\n",
       "40    15.0\n",
       "41     3.0\n",
       "42     2.0\n",
       "43    14.0\n",
       "44     5.0\n",
       "45    10.0\n",
       "46     5.0\n",
       "47    15.0\n",
       "48     8.0\n",
       "49     7.0\n",
       "Name: Holding_Policy_Duration, dtype: float64"
      ]
     },
     "execution_count": 16,
     "metadata": {},
     "output_type": "execute_result"
    }
   ],
   "source": [
    "df_data['Holding_Policy_Duration'] = df_data['Holding_Policy_Duration'].astype(float)\n",
    "df_data['Holding_Policy_Duration'].head(50)"
   ]
  },
  {
   "cell_type": "code",
   "execution_count": 17,
   "id": "gorgeous-child",
   "metadata": {},
   "outputs": [
    {
     "data": {
      "text/plain": [
       "City_Code                         0\n",
       "Accomodation_Type                 0\n",
       "Reco_Insurance_Type               0\n",
       "Upper_Age                         0\n",
       "Lower_Age                         0\n",
       "Is_Spouse                         0\n",
       "Health Indicator                  0\n",
       "Holding_Policy_Duration           0\n",
       "Holding_Policy_Type               0\n",
       "Reco_Policy_Cat                   0\n",
       "Reco_Policy_Premium               0\n",
       "Response                      21805\n",
       "train_flag                        0\n",
       "Region_Code_Bins_1-1000           0\n",
       "Region_Code_Bins_1000-2000        0\n",
       "Region_Code_Bins_2000-3000        0\n",
       "Region_Code_Bins_3000-4000        0\n",
       "Region_Code_Bins_4000-5000        0\n",
       "Region_Code_Bins_5000-6000        0\n",
       "Region_Code_Bins_6000-7000        0\n",
       "dtype: int64"
      ]
     },
     "execution_count": 17,
     "metadata": {},
     "output_type": "execute_result"
    }
   ],
   "source": [
    "df_data.isnull().sum()"
   ]
  },
  {
   "cell_type": "markdown",
   "id": "supreme-amino",
   "metadata": {},
   "source": [
    "#### We will handle the Response column at a later stage"
   ]
  },
  {
   "cell_type": "markdown",
   "id": "portable-canadian",
   "metadata": {},
   "source": [
    "#### Handling the outliers in the data, i.e. the extreme values in the data. We can find the outliers in our data using a Boxplot."
   ]
  },
  {
   "cell_type": "code",
   "execution_count": 18,
   "id": "continent-appearance",
   "metadata": {},
   "outputs": [
    {
     "data": {
      "text/plain": [
       "<AxesSubplot:xlabel='Reco_Policy_Premium'>"
      ]
     },
     "execution_count": 18,
     "metadata": {},
     "output_type": "execute_result"
    },
    {
     "data": {
      "image/png": "[encoded data removed]",
      "text/plain": [
       "<Figure size 432x288 with 1 Axes>"
      ]
     },
     "metadata": {
      "needs_background": "light"
     },
     "output_type": "display_data"
    }
   ],
   "source": [
    "sns.boxplot(x=df_data['Reco_Policy_Premium'],data=df_data)"
   ]
  },
  {
   "cell_type": "markdown",
   "id": "empirical-brisbane",
   "metadata": {},
   "source": [
    "As we can observe from the above boxplot that the the normal range of data lies within the block and the outliers are denoted by the small circles in the extreme end of the graph.\n",
    "So to handle it we can either drop the outlier values or replace the outlier values using IQR(Interquartile Range Method).\n",
    "IQR is calculated as the difference between the 25th and the 75th percentile of the data. The percentiles can be calculated by sorting the selecting values at specific indices. The IQR is used to identify outliers by defining limits on the sample values that are a factor k of the IQR . The common value for the factor k is the value 1.5."
   ]
  },
  {
   "cell_type": "code",
   "execution_count": 19,
   "id": "dedicated-response",
   "metadata": {
    "scrolled": true
   },
   "outputs": [
    {
     "data": {
      "text/plain": [
       "<AxesSubplot:xlabel='Reco_Policy_Premium'>"
      ]
     },
     "execution_count": 19,
     "metadata": {},
     "output_type": "execute_result"
    },
    {
     "data": {
      "image/png": "[encoded data removed]",
      "text/plain": [
       "<Figure size 432x288 with 1 Axes>"
      ]
     },
     "metadata": {
      "needs_background": "light"
     },
     "output_type": "display_data"
    }
   ],
   "source": [
    "from scipy import stats\n",
    "def removeOutlier(col):\n",
    "    sorted(col)\n",
    "    quant1,quant2 = col.quantile([0.25,0.75])\n",
    "    IQR = quant2 - quant1\n",
    "    lowerRange = quant1 - (1.5 * IQR)\n",
    "    upperRange = quant2 + (1.5 * IQR)\n",
    "    return lowerRange,upperRange\n",
    "\n",
    "lowScore,highScore = removeOutlier(df_data['Reco_Policy_Premium'])\n",
    "df_data['Reco_Policy_Premium'] = np.where(df_data['Reco_Policy_Premium']>highScore,highScore,df_data['Reco_Policy_Premium'])\n",
    "df_data['Reco_Policy_Premium'] = np.where(df_data['Reco_Policy_Premium']<lowScore,lowScore,df_data['Reco_Policy_Premium'])\n",
    "\n",
    "sns.boxplot(x=df_data['Reco_Policy_Premium'],data=df_data)"
   ]
  },
  {
   "cell_type": "markdown",
   "id": "analyzed-grade",
   "metadata": {},
   "source": [
    "#### Finally, we can observe that our data is now free from outliers."
   ]
  },
  {
   "cell_type": "markdown",
   "id": "stuffed-awareness",
   "metadata": {},
   "source": [
    "## EDA using visualization"
   ]
  },
  {
   "cell_type": "markdown",
   "id": "essential-latex",
   "metadata": {},
   "source": [
    "#### We can visulaize the distribution of the values in the categorical columns to get the overview of the data"
   ]
  },
  {
   "cell_type": "code",
   "execution_count": 20,
   "id": "grateful-eclipse",
   "metadata": {
    "scrolled": true
   },
   "outputs": [
    {
     "data": {
      "text/plain": [
       "<AxesSubplot:xlabel='Response', ylabel='count'>"
      ]
     },
     "execution_count": 20,
     "metadata": {},
     "output_type": "execute_result"
    },
    {
     "data": {
      "image/png": "[encoded data removed]",
      "text/plain": [
       "<Figure size 432x288 with 1 Axes>"
      ]
     },
     "metadata": {
      "needs_background": "light"
     },
     "output_type": "display_data"
    }
   ],
   "source": [
    "sns.countplot(x=df_data['Response'],data=df_data)"
   ]
  },
  {
   "cell_type": "code",
   "execution_count": 21,
   "id": "fallen-academy",
   "metadata": {},
   "outputs": [
    {
     "data": {
      "text/plain": [
       "<AxesSubplot:xlabel='Reco_Insurance_Type', ylabel='count'>"
      ]
     },
     "execution_count": 21,
     "metadata": {},
     "output_type": "execute_result"
    },
    {
     "data": {
      "image/png": "[encoded data removed]",
      "text/plain": [
       "<Figure size 432x288 with 1 Axes>"
      ]
     },
     "metadata": {
      "needs_background": "light"
     },
     "output_type": "display_data"
    }
   ],
   "source": [
    "sns.countplot(x=df_data['Reco_Insurance_Type'],data=df_data)"
   ]
  },
  {
   "cell_type": "code",
   "execution_count": 22,
   "id": "committed-demand",
   "metadata": {},
   "outputs": [
    {
     "data": {
      "text/plain": [
       "<AxesSubplot:xlabel='Accomodation_Type', ylabel='count'>"
      ]
     },
     "execution_count": 22,
     "metadata": {},
     "output_type": "execute_result"
    },
    {
     "data": {
      "image/png": "[encoded data removed]",
      "text/plain": [
       "<Figure size 432x288 with 1 Axes>"
      ]
     },
     "metadata": {
      "needs_background": "light"
     },
     "output_type": "display_data"
    }
   ],
   "source": [
    "sns.countplot(x=df_data['Accomodation_Type'],data=df_data)"
   ]
  },
  {
   "cell_type": "code",
   "execution_count": 23,
   "id": "dangerous-tuition",
   "metadata": {},
   "outputs": [
    {
     "data": {
      "text/plain": [
       "<AxesSubplot:xlabel='Health Indicator', ylabel='count'>"
      ]
     },
     "execution_count": 23,
     "metadata": {},
     "output_type": "execute_result"
    },
    {
     "data": {
      "image/png": "[encoded data removed]",
      "text/plain": [
       "<Figure size 432x288 with 1 Axes>"
      ]
     },
     "metadata": {
      "needs_background": "light"
     },
     "output_type": "display_data"
    }
   ],
   "source": [
    "sns.countplot(x=df_data['Health Indicator'],data=df_data)"
   ]
  },
  {
   "cell_type": "code",
   "execution_count": 24,
   "id": "regulated-pharmaceutical",
   "metadata": {
    "scrolled": false
   },
   "outputs": [
    {
     "data": {
      "text/plain": [
       "<AxesSubplot:xlabel='City_Code', ylabel='count'>"
      ]
     },
     "execution_count": 24,
     "metadata": {},
     "output_type": "execute_result"
    },
    {
     "data": {
      "image/png": "[encoded data removed]",
      "text/plain": [
       "<Figure size 1080x432 with 1 Axes>"
      ]
     },
     "metadata": {
      "needs_background": "light"
     },
     "output_type": "display_data"
    }
   ],
   "source": [
    "plt.figure(figsize=[15,6])\n",
    "sns.countplot(x=df_data['City_Code'],data=df_data)"
   ]
  },
  {
   "cell_type": "markdown",
   "id": "introductory-password",
   "metadata": {},
   "source": [
    "#### Using heatmap we can plot the correlation between the numerical features in our dataframe"
   ]
  },
  {
   "cell_type": "code",
   "execution_count": 25,
   "id": "conditional-nirvana",
   "metadata": {},
   "outputs": [
    {
     "data": {
      "text/plain": [
       "<AxesSubplot:>"
      ]
     },
     "execution_count": 25,
     "metadata": {},
     "output_type": "execute_result"
    },
    {
     "data": {
      "image/png": "[encoded data removed]",
      "text/plain": [
       "<Figure size 1080x432 with 2 Axes>"
      ]
     },
     "metadata": {
      "needs_background": "light"
     },
     "output_type": "display_data"
    }
   ],
   "source": [
    "plt.figure(figsize=[15,6])\n",
    "sns.heatmap(data=df_data.corr(),annot=True,cmap='Reds')"
   ]
  },
  {
   "cell_type": "markdown",
   "id": "raised-responsibility",
   "metadata": {},
   "source": [
    "#### Normalizing and Scaling — Data Normalization or feature scaling is a process to standardize the range of features of the data as the range may vary a lot. So we can preprocess the data using ML algorithms. So for this, we will use MinMaxScaler for the numerical values.\n",
    "\n",
    "##### We will scale the Reco_Policy_Premium, Upper_Age, Lower_Age columns in our data frame"
   ]
  },
  {
   "cell_type": "code",
   "execution_count": 26,
   "id": "pleasant-annotation",
   "metadata": {},
   "outputs": [],
   "source": [
    "from sklearn.preprocessing import MinMaxScaler\n",
    "scaler = MinMaxScaler()\n",
    "df_data['Reco_Policy_Premium'] = scaler.fit_transform(df_data[['Reco_Policy_Premium']])\n",
    "df_data['Upper_Age'] = scaler.fit_transform(df_data[['Upper_Age']])\n",
    "df_data['Lower_Age'] = scaler.fit_transform(df_data[['Lower_Age']])\n",
    "df_data['Holding_Policy_Duration'] = scaler.fit_transform(df_data[['Holding_Policy_Duration']])\n",
    "df_data['Holding_Policy_Type'] = scaler.fit_transform(df_data[['Holding_Policy_Type']])"
   ]
  },
  {
   "cell_type": "code",
   "execution_count": 27,
   "id": "funny-difference",
   "metadata": {
    "scrolled": true
   },
   "outputs": [
    {
     "data": {
      "text/html": [
       "<div>\n",
       "<style scoped>\n",
       "    .dataframe tbody tr th:only-of-type {\n",
       "        vertical-align: middle;\n",
       "    }\n",
       "\n",
       "    .dataframe tbody tr th {\n",
       "        vertical-align: top;\n",
       "    }\n",
       "\n",
       "    .dataframe thead th {\n",
       "        text-align: right;\n",
       "    }\n",
       "</style>\n",
       "<table border=\"1\" class=\"dataframe\">\n",
       "  <thead>\n",
       "    <tr style=\"text-align: right;\">\n",
       "      <th></th>\n",
       "      <th>City_Code</th>\n",
       "      <th>Accomodation_Type</th>\n",
       "      <th>Reco_Insurance_Type</th>\n",
       "      <th>Upper_Age</th>\n",
       "      <th>Lower_Age</th>\n",
       "      <th>Is_Spouse</th>\n",
       "      <th>Health Indicator</th>\n",
       "      <th>Holding_Policy_Duration</th>\n",
       "      <th>Holding_Policy_Type</th>\n",
       "      <th>Reco_Policy_Cat</th>\n",
       "      <th>Reco_Policy_Premium</th>\n",
       "      <th>Response</th>\n",
       "      <th>train_flag</th>\n",
       "      <th>Region_Code_Bins_1-1000</th>\n",
       "      <th>Region_Code_Bins_1000-2000</th>\n",
       "      <th>Region_Code_Bins_2000-3000</th>\n",
       "      <th>Region_Code_Bins_3000-4000</th>\n",
       "      <th>Region_Code_Bins_4000-5000</th>\n",
       "      <th>Region_Code_Bins_5000-6000</th>\n",
       "      <th>Region_Code_Bins_6000-7000</th>\n",
       "    </tr>\n",
       "  </thead>\n",
       "  <tbody>\n",
       "    <tr>\n",
       "      <th>0</th>\n",
       "      <td>C3</td>\n",
       "      <td>Rented</td>\n",
       "      <td>Individual</td>\n",
       "      <td>0.315789</td>\n",
       "      <td>0.338983</td>\n",
       "      <td>No</td>\n",
       "      <td>X1</td>\n",
       "      <td>1.000000</td>\n",
       "      <td>0.666667</td>\n",
       "      <td>22</td>\n",
       "      <td>0.323115</td>\n",
       "      <td>0</td>\n",
       "      <td>1</td>\n",
       "      <td>0</td>\n",
       "      <td>0</td>\n",
       "      <td>0</td>\n",
       "      <td>1</td>\n",
       "      <td>0</td>\n",
       "      <td>0</td>\n",
       "      <td>0</td>\n",
       "    </tr>\n",
       "    <tr>\n",
       "      <th>1</th>\n",
       "      <td>C5</td>\n",
       "      <td>Owned</td>\n",
       "      <td>Joint</td>\n",
       "      <td>1.000000</td>\n",
       "      <td>0.101695</td>\n",
       "      <td>No</td>\n",
       "      <td>X2</td>\n",
       "      <td>0.285714</td>\n",
       "      <td>0.666667</td>\n",
       "      <td>22</td>\n",
       "      <td>0.966959</td>\n",
       "      <td>0</td>\n",
       "      <td>1</td>\n",
       "      <td>0</td>\n",
       "      <td>1</td>\n",
       "      <td>0</td>\n",
       "      <td>0</td>\n",
       "      <td>0</td>\n",
       "      <td>0</td>\n",
       "      <td>0</td>\n",
       "    </tr>\n",
       "    <tr>\n",
       "      <th>2</th>\n",
       "      <td>C5</td>\n",
       "      <td>Owned</td>\n",
       "      <td>Individual</td>\n",
       "      <td>0.245614</td>\n",
       "      <td>0.271186</td>\n",
       "      <td>No</td>\n",
       "      <td>X1</td>\n",
       "      <td>0.000000</td>\n",
       "      <td>0.000000</td>\n",
       "      <td>19</td>\n",
       "      <td>0.180653</td>\n",
       "      <td>1</td>\n",
       "      <td>1</td>\n",
       "      <td>0</td>\n",
       "      <td>0</td>\n",
       "      <td>0</td>\n",
       "      <td>1</td>\n",
       "      <td>0</td>\n",
       "      <td>0</td>\n",
       "      <td>0</td>\n",
       "    </tr>\n",
       "    <tr>\n",
       "      <th>3</th>\n",
       "      <td>C24</td>\n",
       "      <td>Owned</td>\n",
       "      <td>Joint</td>\n",
       "      <td>0.596491</td>\n",
       "      <td>0.542373</td>\n",
       "      <td>No</td>\n",
       "      <td>X1</td>\n",
       "      <td>1.000000</td>\n",
       "      <td>0.666667</td>\n",
       "      <td>19</td>\n",
       "      <td>0.532888</td>\n",
       "      <td>0</td>\n",
       "      <td>1</td>\n",
       "      <td>0</td>\n",
       "      <td>0</td>\n",
       "      <td>0</td>\n",
       "      <td>0</td>\n",
       "      <td>1</td>\n",
       "      <td>0</td>\n",
       "      <td>0</td>\n",
       "    </tr>\n",
       "    <tr>\n",
       "      <th>4</th>\n",
       "      <td>C8</td>\n",
       "      <td>Rented</td>\n",
       "      <td>Individual</td>\n",
       "      <td>0.456140</td>\n",
       "      <td>0.474576</td>\n",
       "      <td>No</td>\n",
       "      <td>X2</td>\n",
       "      <td>0.142857</td>\n",
       "      <td>0.000000</td>\n",
       "      <td>16</td>\n",
       "      <td>0.281379</td>\n",
       "      <td>0</td>\n",
       "      <td>1</td>\n",
       "      <td>0</td>\n",
       "      <td>0</td>\n",
       "      <td>1</td>\n",
       "      <td>0</td>\n",
       "      <td>0</td>\n",
       "      <td>0</td>\n",
       "      <td>0</td>\n",
       "    </tr>\n",
       "  </tbody>\n",
       "</table>\n",
       "</div>"
      ],
      "text/plain": [
       "  City_Code Accomodation_Type Reco_Insurance_Type  Upper_Age  Lower_Age  \\\n",
       "0        C3            Rented          Individual   0.315789   0.338983   \n",
       "1        C5             Owned               Joint   1.000000   0.101695   \n",
       "2        C5             Owned          Individual   0.245614   0.271186   \n",
       "3       C24             Owned               Joint   0.596491   0.542373   \n",
       "4        C8            Rented          Individual   0.456140   0.474576   \n",
       "\n",
       "  Is_Spouse Health Indicator  Holding_Policy_Duration  Holding_Policy_Type  \\\n",
       "0        No               X1                 1.000000             0.666667   \n",
       "1        No               X2                 0.285714             0.666667   \n",
       "2        No               X1                 0.000000             0.000000   \n",
       "3        No               X1                 1.000000             0.666667   \n",
       "4        No               X2                 0.142857             0.000000   \n",
       "\n",
       "  Reco_Policy_Cat  Reco_Policy_Premium Response  train_flag  \\\n",
       "0              22             0.323115        0           1   \n",
       "1              22             0.966959        0           1   \n",
       "2              19             0.180653        1           1   \n",
       "3              19             0.532888        0           1   \n",
       "4              16             0.281379        0           1   \n",
       "\n",
       "   Region_Code_Bins_1-1000  Region_Code_Bins_1000-2000  \\\n",
       "0                        0                           0   \n",
       "1                        0                           1   \n",
       "2                        0                           0   \n",
       "3                        0                           0   \n",
       "4                        0                           0   \n",
       "\n",
       "   Region_Code_Bins_2000-3000  Region_Code_Bins_3000-4000  \\\n",
       "0                           0                           1   \n",
       "1                           0                           0   \n",
       "2                           0                           1   \n",
       "3                           0                           0   \n",
       "4                           1                           0   \n",
       "\n",
       "   Region_Code_Bins_4000-5000  Region_Code_Bins_5000-6000  \\\n",
       "0                           0                           0   \n",
       "1                           0                           0   \n",
       "2                           0                           0   \n",
       "3                           1                           0   \n",
       "4                           0                           0   \n",
       "\n",
       "   Region_Code_Bins_6000-7000  \n",
       "0                           0  \n",
       "1                           0  \n",
       "2                           0  \n",
       "3                           0  \n",
       "4                           0  "
      ]
     },
     "execution_count": 27,
     "metadata": {},
     "output_type": "execute_result"
    }
   ],
   "source": [
    "df_data.head()"
   ]
  },
  {
   "cell_type": "code",
   "execution_count": 28,
   "id": "conscious-profile",
   "metadata": {},
   "outputs": [
    {
     "data": {
      "text/plain": [
       "Index(['City_Code', 'Accomodation_Type', 'Reco_Insurance_Type', 'Upper_Age',\n",
       "       'Lower_Age', 'Is_Spouse', 'Health Indicator', 'Holding_Policy_Duration',\n",
       "       'Holding_Policy_Type', 'Reco_Policy_Cat', 'Reco_Policy_Premium',\n",
       "       'Response', 'train_flag', 'Region_Code_Bins_1-1000',\n",
       "       'Region_Code_Bins_1000-2000', 'Region_Code_Bins_2000-3000',\n",
       "       'Region_Code_Bins_3000-4000', 'Region_Code_Bins_4000-5000',\n",
       "       'Region_Code_Bins_5000-6000', 'Region_Code_Bins_6000-7000'],\n",
       "      dtype='object')"
      ]
     },
     "execution_count": 28,
     "metadata": {},
     "output_type": "execute_result"
    }
   ],
   "source": [
    "df_data.columns"
   ]
  },
  {
   "cell_type": "markdown",
   "id": "exclusive-referral",
   "metadata": {},
   "source": [
    "#### Now We will extract the categorical columns from our dataframe"
   ]
  },
  {
   "cell_type": "code",
   "execution_count": 29,
   "id": "informed-creation",
   "metadata": {},
   "outputs": [
    {
     "data": {
      "text/plain": [
       "Index(['City_Code', 'Accomodation_Type', 'Reco_Insurance_Type', 'Is_Spouse',\n",
       "       'Health Indicator', 'Reco_Policy_Cat', 'Response'],\n",
       "      dtype='object')"
      ]
     },
     "execution_count": 29,
     "metadata": {},
     "output_type": "execute_result"
    }
   ],
   "source": [
    "cat=df_data.select_dtypes(['object']).columns\n",
    "cat"
   ]
  },
  {
   "cell_type": "code",
   "execution_count": 30,
   "id": "cardiovascular-carrier",
   "metadata": {},
   "outputs": [
    {
     "data": {
      "text/plain": [
       "Index(['City_Code', 'Accomodation_Type', 'Reco_Insurance_Type', 'Is_Spouse',\n",
       "       'Health Indicator', 'Reco_Policy_Cat'],\n",
       "      dtype='object')"
      ]
     },
     "execution_count": 30,
     "metadata": {},
     "output_type": "execute_result"
    }
   ],
   "source": [
    "cat=cat[:-1]\n",
    "cat"
   ]
  },
  {
   "cell_type": "markdown",
   "id": "responsible-application",
   "metadata": {},
   "source": [
    "### One hot Encoding using Pandas\n",
    "#### Now we will use One hot Encoding to handle the categorical features"
   ]
  },
  {
   "cell_type": "code",
   "execution_count": 31,
   "id": "level-welcome",
   "metadata": {},
   "outputs": [],
   "source": [
    "df_data = pd.get_dummies(data=df_data,columns=['City_Code', 'Accomodation_Type', 'Reco_Insurance_Type', 'Is_Spouse','Health Indicator', 'Reco_Policy_Cat'])"
   ]
  },
  {
   "cell_type": "code",
   "execution_count": 32,
   "id": "ecological-dietary",
   "metadata": {},
   "outputs": [
    {
     "data": {
      "text/plain": [
       "(72687, 87)"
      ]
     },
     "execution_count": 32,
     "metadata": {},
     "output_type": "execute_result"
    }
   ],
   "source": [
    "df_data.shape"
   ]
  },
  {
   "cell_type": "code",
   "execution_count": 33,
   "id": "coastal-dakota",
   "metadata": {},
   "outputs": [
    {
     "name": "stdout",
     "output_type": "stream",
     "text": [
      "<class 'pandas.core.frame.DataFrame'>\n",
      "Int64Index: 72687 entries, 0 to 21804\n",
      "Data columns (total 87 columns):\n",
      " #   Column                          Non-Null Count  Dtype  \n",
      "---  ------                          --------------  -----  \n",
      " 0   Upper_Age                       72687 non-null  float64\n",
      " 1   Lower_Age                       72687 non-null  float64\n",
      " 2   Holding_Policy_Duration         72687 non-null  float64\n",
      " 3   Holding_Policy_Type             72687 non-null  float64\n",
      " 4   Reco_Policy_Premium             72687 non-null  float64\n",
      " 5   Response                        50882 non-null  object \n",
      " 6   train_flag                      72687 non-null  int64  \n",
      " 7   Region_Code_Bins_1-1000         72687 non-null  uint8  \n",
      " 8   Region_Code_Bins_1000-2000      72687 non-null  uint8  \n",
      " 9   Region_Code_Bins_2000-3000      72687 non-null  uint8  \n",
      " 10  Region_Code_Bins_3000-4000      72687 non-null  uint8  \n",
      " 11  Region_Code_Bins_4000-5000      72687 non-null  uint8  \n",
      " 12  Region_Code_Bins_5000-6000      72687 non-null  uint8  \n",
      " 13  Region_Code_Bins_6000-7000      72687 non-null  uint8  \n",
      " 14  City_Code_C1                    72687 non-null  uint8  \n",
      " 15  City_Code_C10                   72687 non-null  uint8  \n",
      " 16  City_Code_C11                   72687 non-null  uint8  \n",
      " 17  City_Code_C12                   72687 non-null  uint8  \n",
      " 18  City_Code_C13                   72687 non-null  uint8  \n",
      " 19  City_Code_C14                   72687 non-null  uint8  \n",
      " 20  City_Code_C15                   72687 non-null  uint8  \n",
      " 21  City_Code_C16                   72687 non-null  uint8  \n",
      " 22  City_Code_C17                   72687 non-null  uint8  \n",
      " 23  City_Code_C18                   72687 non-null  uint8  \n",
      " 24  City_Code_C19                   72687 non-null  uint8  \n",
      " 25  City_Code_C2                    72687 non-null  uint8  \n",
      " 26  City_Code_C20                   72687 non-null  uint8  \n",
      " 27  City_Code_C21                   72687 non-null  uint8  \n",
      " 28  City_Code_C22                   72687 non-null  uint8  \n",
      " 29  City_Code_C23                   72687 non-null  uint8  \n",
      " 30  City_Code_C24                   72687 non-null  uint8  \n",
      " 31  City_Code_C25                   72687 non-null  uint8  \n",
      " 32  City_Code_C26                   72687 non-null  uint8  \n",
      " 33  City_Code_C27                   72687 non-null  uint8  \n",
      " 34  City_Code_C28                   72687 non-null  uint8  \n",
      " 35  City_Code_C29                   72687 non-null  uint8  \n",
      " 36  City_Code_C3                    72687 non-null  uint8  \n",
      " 37  City_Code_C30                   72687 non-null  uint8  \n",
      " 38  City_Code_C31                   72687 non-null  uint8  \n",
      " 39  City_Code_C32                   72687 non-null  uint8  \n",
      " 40  City_Code_C33                   72687 non-null  uint8  \n",
      " 41  City_Code_C34                   72687 non-null  uint8  \n",
      " 42  City_Code_C35                   72687 non-null  uint8  \n",
      " 43  City_Code_C36                   72687 non-null  uint8  \n",
      " 44  City_Code_C4                    72687 non-null  uint8  \n",
      " 45  City_Code_C5                    72687 non-null  uint8  \n",
      " 46  City_Code_C6                    72687 non-null  uint8  \n",
      " 47  City_Code_C7                    72687 non-null  uint8  \n",
      " 48  City_Code_C8                    72687 non-null  uint8  \n",
      " 49  City_Code_C9                    72687 non-null  uint8  \n",
      " 50  Accomodation_Type_Owned         72687 non-null  uint8  \n",
      " 51  Accomodation_Type_Rented        72687 non-null  uint8  \n",
      " 52  Reco_Insurance_Type_Individual  72687 non-null  uint8  \n",
      " 53  Reco_Insurance_Type_Joint       72687 non-null  uint8  \n",
      " 54  Is_Spouse_No                    72687 non-null  uint8  \n",
      " 55  Is_Spouse_Yes                   72687 non-null  uint8  \n",
      " 56  Health Indicator_X1             72687 non-null  uint8  \n",
      " 57  Health Indicator_X2             72687 non-null  uint8  \n",
      " 58  Health Indicator_X3             72687 non-null  uint8  \n",
      " 59  Health Indicator_X4             72687 non-null  uint8  \n",
      " 60  Health Indicator_X5             72687 non-null  uint8  \n",
      " 61  Health Indicator_X6             72687 non-null  uint8  \n",
      " 62  Health Indicator_X7             72687 non-null  uint8  \n",
      " 63  Health Indicator_X8             72687 non-null  uint8  \n",
      " 64  Health Indicator_X9             72687 non-null  uint8  \n",
      " 65  Reco_Policy_Cat_1               72687 non-null  uint8  \n",
      " 66  Reco_Policy_Cat_10              72687 non-null  uint8  \n",
      " 67  Reco_Policy_Cat_11              72687 non-null  uint8  \n",
      " 68  Reco_Policy_Cat_12              72687 non-null  uint8  \n",
      " 69  Reco_Policy_Cat_13              72687 non-null  uint8  \n",
      " 70  Reco_Policy_Cat_14              72687 non-null  uint8  \n",
      " 71  Reco_Policy_Cat_15              72687 non-null  uint8  \n",
      " 72  Reco_Policy_Cat_16              72687 non-null  uint8  \n",
      " 73  Reco_Policy_Cat_17              72687 non-null  uint8  \n",
      " 74  Reco_Policy_Cat_18              72687 non-null  uint8  \n",
      " 75  Reco_Policy_Cat_19              72687 non-null  uint8  \n",
      " 76  Reco_Policy_Cat_2               72687 non-null  uint8  \n",
      " 77  Reco_Policy_Cat_20              72687 non-null  uint8  \n",
      " 78  Reco_Policy_Cat_21              72687 non-null  uint8  \n",
      " 79  Reco_Policy_Cat_22              72687 non-null  uint8  \n",
      " 80  Reco_Policy_Cat_3               72687 non-null  uint8  \n",
      " 81  Reco_Policy_Cat_4               72687 non-null  uint8  \n",
      " 82  Reco_Policy_Cat_5               72687 non-null  uint8  \n",
      " 83  Reco_Policy_Cat_6               72687 non-null  uint8  \n",
      " 84  Reco_Policy_Cat_7               72687 non-null  uint8  \n",
      " 85  Reco_Policy_Cat_8               72687 non-null  uint8  \n",
      " 86  Reco_Policy_Cat_9               72687 non-null  uint8  \n",
      "dtypes: float64(5), int64(1), object(1), uint8(80)\n",
      "memory usage: 12.0+ MB\n"
     ]
    }
   ],
   "source": [
    "df_data.info()"
   ]
  },
  {
   "cell_type": "markdown",
   "id": "pressing-monster",
   "metadata": {},
   "source": [
    "#### Now we will again split the dataframe using the train_flag feature into train and test dataframe respectively"
   ]
  },
  {
   "cell_type": "code",
   "execution_count": 34,
   "id": "gothic-killer",
   "metadata": {},
   "outputs": [
    {
     "name": "stdout",
     "output_type": "stream",
     "text": [
      "(50882, 15) (21805, 15)\n"
     ]
    }
   ],
   "source": [
    "print(df_train.shape, df_test.shape)"
   ]
  },
  {
   "cell_type": "code",
   "execution_count": 35,
   "id": "elementary-poison",
   "metadata": {},
   "outputs": [],
   "source": [
    "df_train, df_test = df_data[df_data.train_flag == 1], df_data[df_data.train_flag == 0]"
   ]
  },
  {
   "cell_type": "code",
   "execution_count": 36,
   "id": "specified-education",
   "metadata": {},
   "outputs": [],
   "source": [
    "df_train.drop(['train_flag'], inplace=True, axis=1)\n",
    "df_test.drop(['train_flag'], inplace=True, axis=1)\n",
    "df_test.drop(['Response'], inplace=True, axis=1)"
   ]
  },
  {
   "cell_type": "code",
   "execution_count": 37,
   "id": "functioning-arena",
   "metadata": {},
   "outputs": [
    {
     "name": "stdout",
     "output_type": "stream",
     "text": [
      "(50882, 86) (21805, 85)\n"
     ]
    }
   ],
   "source": [
    "print(df_train.shape, df_test.shape)"
   ]
  },
  {
   "cell_type": "code",
   "execution_count": 38,
   "id": "civil-factor",
   "metadata": {},
   "outputs": [],
   "source": [
    "del df_data"
   ]
  },
  {
   "cell_type": "code",
   "execution_count": 39,
   "id": "plain-dress",
   "metadata": {},
   "outputs": [],
   "source": [
    "df_train['Response'] = df_train['Response'].astype(int)"
   ]
  },
  {
   "cell_type": "markdown",
   "id": "tropical-heath",
   "metadata": {},
   "source": [
    "### Train Test Split\n",
    "#### Now using the train-test-split we will split the train and test data with a 80%-20% format"
   ]
  },
  {
   "cell_type": "code",
   "execution_count": 40,
   "id": "surprising-retro",
   "metadata": {},
   "outputs": [],
   "source": [
    "df_train, df_eval = train_test_split(df_train, test_size=0.2, random_state=42, shuffle=True, stratify=df_train['Response'])"
   ]
  },
  {
   "cell_type": "code",
   "execution_count": 41,
   "id": "insured-coffee",
   "metadata": {},
   "outputs": [
    {
     "name": "stdout",
     "output_type": "stream",
     "text": [
      "['Upper_Age', 'Lower_Age', 'Holding_Policy_Duration', 'Holding_Policy_Type', 'Reco_Policy_Premium', 'Region_Code_Bins_1-1000', 'Region_Code_Bins_1000-2000', 'Region_Code_Bins_2000-3000', 'Region_Code_Bins_3000-4000', 'Region_Code_Bins_4000-5000', 'Region_Code_Bins_5000-6000', 'Region_Code_Bins_6000-7000', 'City_Code_C1', 'City_Code_C10', 'City_Code_C11', 'City_Code_C12', 'City_Code_C13', 'City_Code_C14', 'City_Code_C15', 'City_Code_C16', 'City_Code_C17', 'City_Code_C18', 'City_Code_C19', 'City_Code_C2', 'City_Code_C20', 'City_Code_C21', 'City_Code_C22', 'City_Code_C23', 'City_Code_C24', 'City_Code_C25', 'City_Code_C26', 'City_Code_C27', 'City_Code_C28', 'City_Code_C29', 'City_Code_C3', 'City_Code_C30', 'City_Code_C31', 'City_Code_C32', 'City_Code_C33', 'City_Code_C34', 'City_Code_C35', 'City_Code_C36', 'City_Code_C4', 'City_Code_C5', 'City_Code_C6', 'City_Code_C7', 'City_Code_C8', 'City_Code_C9', 'Accomodation_Type_Owned', 'Accomodation_Type_Rented', 'Reco_Insurance_Type_Individual', 'Reco_Insurance_Type_Joint', 'Is_Spouse_No', 'Is_Spouse_Yes', 'Health Indicator_X1', 'Health Indicator_X2', 'Health Indicator_X3', 'Health Indicator_X4', 'Health Indicator_X5', 'Health Indicator_X6', 'Health Indicator_X7', 'Health Indicator_X8', 'Health Indicator_X9', 'Reco_Policy_Cat_1', 'Reco_Policy_Cat_10', 'Reco_Policy_Cat_11', 'Reco_Policy_Cat_12', 'Reco_Policy_Cat_13', 'Reco_Policy_Cat_14', 'Reco_Policy_Cat_15', 'Reco_Policy_Cat_16', 'Reco_Policy_Cat_17', 'Reco_Policy_Cat_18', 'Reco_Policy_Cat_19', 'Reco_Policy_Cat_2', 'Reco_Policy_Cat_20', 'Reco_Policy_Cat_21', 'Reco_Policy_Cat_22', 'Reco_Policy_Cat_3', 'Reco_Policy_Cat_4', 'Reco_Policy_Cat_5', 'Reco_Policy_Cat_6', 'Reco_Policy_Cat_7', 'Reco_Policy_Cat_8', 'Reco_Policy_Cat_9']\n"
     ]
    }
   ],
   "source": [
    "feature_cols = df_train.columns.tolist()\n",
    "feature_cols.remove('Response')\n",
    "label_col = 'Response'\n",
    "print(feature_cols)"
   ]
  },
  {
   "cell_type": "code",
   "execution_count": 42,
   "id": "allied-custom",
   "metadata": {},
   "outputs": [
    {
     "data": {
      "text/plain": [
       "['Upper_Age',\n",
       " 'Lower_Age',\n",
       " 'Holding_Policy_Duration',\n",
       " 'Holding_Policy_Type',\n",
       " 'Reco_Policy_Premium',\n",
       " 'Region_Code_Bins_1-1000',\n",
       " 'Region_Code_Bins_1000-2000',\n",
       " 'Region_Code_Bins_2000-3000',\n",
       " 'Region_Code_Bins_3000-4000',\n",
       " 'Region_Code_Bins_4000-5000',\n",
       " 'Region_Code_Bins_5000-6000',\n",
       " 'Region_Code_Bins_6000-7000',\n",
       " 'City_Code_C1',\n",
       " 'City_Code_C10',\n",
       " 'City_Code_C11',\n",
       " 'City_Code_C12',\n",
       " 'City_Code_C13',\n",
       " 'City_Code_C14',\n",
       " 'City_Code_C15',\n",
       " 'City_Code_C16',\n",
       " 'City_Code_C17',\n",
       " 'City_Code_C18',\n",
       " 'City_Code_C19',\n",
       " 'City_Code_C2',\n",
       " 'City_Code_C20',\n",
       " 'City_Code_C21',\n",
       " 'City_Code_C22',\n",
       " 'City_Code_C23',\n",
       " 'City_Code_C24',\n",
       " 'City_Code_C25',\n",
       " 'City_Code_C26',\n",
       " 'City_Code_C27',\n",
       " 'City_Code_C28',\n",
       " 'City_Code_C29',\n",
       " 'City_Code_C3',\n",
       " 'City_Code_C30',\n",
       " 'City_Code_C31',\n",
       " 'City_Code_C32',\n",
       " 'City_Code_C33',\n",
       " 'City_Code_C34',\n",
       " 'City_Code_C35',\n",
       " 'City_Code_C36',\n",
       " 'City_Code_C4',\n",
       " 'City_Code_C5',\n",
       " 'City_Code_C6',\n",
       " 'City_Code_C7',\n",
       " 'City_Code_C8',\n",
       " 'City_Code_C9',\n",
       " 'Accomodation_Type_Owned',\n",
       " 'Accomodation_Type_Rented',\n",
       " 'Reco_Insurance_Type_Individual',\n",
       " 'Reco_Insurance_Type_Joint',\n",
       " 'Is_Spouse_No',\n",
       " 'Is_Spouse_Yes',\n",
       " 'Health Indicator_X1',\n",
       " 'Health Indicator_X2',\n",
       " 'Health Indicator_X3',\n",
       " 'Health Indicator_X4',\n",
       " 'Health Indicator_X5',\n",
       " 'Health Indicator_X6',\n",
       " 'Health Indicator_X7',\n",
       " 'Health Indicator_X8',\n",
       " 'Health Indicator_X9',\n",
       " 'Reco_Policy_Cat_1',\n",
       " 'Reco_Policy_Cat_10',\n",
       " 'Reco_Policy_Cat_11',\n",
       " 'Reco_Policy_Cat_12',\n",
       " 'Reco_Policy_Cat_13',\n",
       " 'Reco_Policy_Cat_14',\n",
       " 'Reco_Policy_Cat_15',\n",
       " 'Reco_Policy_Cat_16',\n",
       " 'Reco_Policy_Cat_17',\n",
       " 'Reco_Policy_Cat_18',\n",
       " 'Reco_Policy_Cat_19',\n",
       " 'Reco_Policy_Cat_2',\n",
       " 'Reco_Policy_Cat_20',\n",
       " 'Reco_Policy_Cat_21',\n",
       " 'Reco_Policy_Cat_22',\n",
       " 'Reco_Policy_Cat_3',\n",
       " 'Reco_Policy_Cat_4',\n",
       " 'Reco_Policy_Cat_5',\n",
       " 'Reco_Policy_Cat_6',\n",
       " 'Reco_Policy_Cat_7',\n",
       " 'Reco_Policy_Cat_8',\n",
       " 'Reco_Policy_Cat_9']"
      ]
     },
     "execution_count": 42,
     "metadata": {},
     "output_type": "execute_result"
    }
   ],
   "source": [
    "cat_cols = feature_cols\n",
    "cat_cols"
   ]
  },
  {
   "cell_type": "code",
   "execution_count": 43,
   "id": "female-suicide",
   "metadata": {},
   "outputs": [
    {
     "data": {
      "text/plain": [
       "('Response', 85, 85)"
      ]
     },
     "execution_count": 43,
     "metadata": {},
     "output_type": "execute_result"
    }
   ],
   "source": [
    "label_col, len(feature_cols), len(cat_cols)"
   ]
  },
  {
   "cell_type": "code",
   "execution_count": 44,
   "id": "dirty-nickname",
   "metadata": {},
   "outputs": [
    {
     "data": {
      "text/html": [
       "<div>\n",
       "<style scoped>\n",
       "    .dataframe tbody tr th:only-of-type {\n",
       "        vertical-align: middle;\n",
       "    }\n",
       "\n",
       "    .dataframe tbody tr th {\n",
       "        vertical-align: top;\n",
       "    }\n",
       "\n",
       "    .dataframe thead th {\n",
       "        text-align: right;\n",
       "    }\n",
       "</style>\n",
       "<table border=\"1\" class=\"dataframe\">\n",
       "  <thead>\n",
       "    <tr style=\"text-align: right;\">\n",
       "      <th></th>\n",
       "      <th>Upper_Age</th>\n",
       "      <th>Lower_Age</th>\n",
       "      <th>Holding_Policy_Duration</th>\n",
       "      <th>Holding_Policy_Type</th>\n",
       "      <th>Reco_Policy_Premium</th>\n",
       "      <th>Region_Code_Bins_1-1000</th>\n",
       "      <th>Region_Code_Bins_1000-2000</th>\n",
       "      <th>Region_Code_Bins_2000-3000</th>\n",
       "      <th>Region_Code_Bins_3000-4000</th>\n",
       "      <th>Region_Code_Bins_4000-5000</th>\n",
       "      <th>...</th>\n",
       "      <th>Reco_Policy_Cat_20</th>\n",
       "      <th>Reco_Policy_Cat_21</th>\n",
       "      <th>Reco_Policy_Cat_22</th>\n",
       "      <th>Reco_Policy_Cat_3</th>\n",
       "      <th>Reco_Policy_Cat_4</th>\n",
       "      <th>Reco_Policy_Cat_5</th>\n",
       "      <th>Reco_Policy_Cat_6</th>\n",
       "      <th>Reco_Policy_Cat_7</th>\n",
       "      <th>Reco_Policy_Cat_8</th>\n",
       "      <th>Reco_Policy_Cat_9</th>\n",
       "    </tr>\n",
       "  </thead>\n",
       "  <tbody>\n",
       "    <tr>\n",
       "      <th>0</th>\n",
       "      <td>0.210526</td>\n",
       "      <td>0.237288</td>\n",
       "      <td>0.357143</td>\n",
       "      <td>0.666667</td>\n",
       "      <td>0.333549</td>\n",
       "      <td>1</td>\n",
       "      <td>0</td>\n",
       "      <td>0</td>\n",
       "      <td>0</td>\n",
       "      <td>0</td>\n",
       "      <td>...</td>\n",
       "      <td>0</td>\n",
       "      <td>0</td>\n",
       "      <td>0</td>\n",
       "      <td>0</td>\n",
       "      <td>0</td>\n",
       "      <td>1</td>\n",
       "      <td>0</td>\n",
       "      <td>0</td>\n",
       "      <td>0</td>\n",
       "      <td>0</td>\n",
       "    </tr>\n",
       "    <tr>\n",
       "      <th>1</th>\n",
       "      <td>0.894737</td>\n",
       "      <td>0.881356</td>\n",
       "      <td>0.142857</td>\n",
       "      <td>0.666667</td>\n",
       "      <td>1.000000</td>\n",
       "      <td>1</td>\n",
       "      <td>0</td>\n",
       "      <td>0</td>\n",
       "      <td>0</td>\n",
       "      <td>0</td>\n",
       "      <td>...</td>\n",
       "      <td>0</td>\n",
       "      <td>0</td>\n",
       "      <td>0</td>\n",
       "      <td>0</td>\n",
       "      <td>0</td>\n",
       "      <td>0</td>\n",
       "      <td>0</td>\n",
       "      <td>0</td>\n",
       "      <td>0</td>\n",
       "      <td>0</td>\n",
       "    </tr>\n",
       "    <tr>\n",
       "      <th>2</th>\n",
       "      <td>0.175439</td>\n",
       "      <td>0.203390</td>\n",
       "      <td>0.071429</td>\n",
       "      <td>1.000000</td>\n",
       "      <td>0.241689</td>\n",
       "      <td>1</td>\n",
       "      <td>0</td>\n",
       "      <td>0</td>\n",
       "      <td>0</td>\n",
       "      <td>0</td>\n",
       "      <td>...</td>\n",
       "      <td>0</td>\n",
       "      <td>0</td>\n",
       "      <td>0</td>\n",
       "      <td>0</td>\n",
       "      <td>0</td>\n",
       "      <td>0</td>\n",
       "      <td>0</td>\n",
       "      <td>0</td>\n",
       "      <td>0</td>\n",
       "      <td>0</td>\n",
       "    </tr>\n",
       "    <tr>\n",
       "      <th>3</th>\n",
       "      <td>0.087719</td>\n",
       "      <td>0.118644</td>\n",
       "      <td>0.142857</td>\n",
       "      <td>0.666667</td>\n",
       "      <td>0.236437</td>\n",
       "      <td>0</td>\n",
       "      <td>1</td>\n",
       "      <td>0</td>\n",
       "      <td>0</td>\n",
       "      <td>0</td>\n",
       "      <td>...</td>\n",
       "      <td>0</td>\n",
       "      <td>0</td>\n",
       "      <td>0</td>\n",
       "      <td>0</td>\n",
       "      <td>0</td>\n",
       "      <td>0</td>\n",
       "      <td>0</td>\n",
       "      <td>0</td>\n",
       "      <td>0</td>\n",
       "      <td>0</td>\n",
       "    </tr>\n",
       "    <tr>\n",
       "      <th>4</th>\n",
       "      <td>1.000000</td>\n",
       "      <td>1.000000</td>\n",
       "      <td>0.285714</td>\n",
       "      <td>0.666667</td>\n",
       "      <td>0.694991</td>\n",
       "      <td>1</td>\n",
       "      <td>0</td>\n",
       "      <td>0</td>\n",
       "      <td>0</td>\n",
       "      <td>0</td>\n",
       "      <td>...</td>\n",
       "      <td>0</td>\n",
       "      <td>0</td>\n",
       "      <td>0</td>\n",
       "      <td>0</td>\n",
       "      <td>0</td>\n",
       "      <td>1</td>\n",
       "      <td>0</td>\n",
       "      <td>0</td>\n",
       "      <td>0</td>\n",
       "      <td>0</td>\n",
       "    </tr>\n",
       "  </tbody>\n",
       "</table>\n",
       "<p>5 rows × 85 columns</p>\n",
       "</div>"
      ],
      "text/plain": [
       "   Upper_Age  Lower_Age  Holding_Policy_Duration  Holding_Policy_Type  \\\n",
       "0   0.210526   0.237288                 0.357143             0.666667   \n",
       "1   0.894737   0.881356                 0.142857             0.666667   \n",
       "2   0.175439   0.203390                 0.071429             1.000000   \n",
       "3   0.087719   0.118644                 0.142857             0.666667   \n",
       "4   1.000000   1.000000                 0.285714             0.666667   \n",
       "\n",
       "   Reco_Policy_Premium  Region_Code_Bins_1-1000  Region_Code_Bins_1000-2000  \\\n",
       "0             0.333549                        1                           0   \n",
       "1             1.000000                        1                           0   \n",
       "2             0.241689                        1                           0   \n",
       "3             0.236437                        0                           1   \n",
       "4             0.694991                        1                           0   \n",
       "\n",
       "   Region_Code_Bins_2000-3000  Region_Code_Bins_3000-4000  \\\n",
       "0                           0                           0   \n",
       "1                           0                           0   \n",
       "2                           0                           0   \n",
       "3                           0                           0   \n",
       "4                           0                           0   \n",
       "\n",
       "   Region_Code_Bins_4000-5000  ...  Reco_Policy_Cat_20  Reco_Policy_Cat_21  \\\n",
       "0                           0  ...                   0                   0   \n",
       "1                           0  ...                   0                   0   \n",
       "2                           0  ...                   0                   0   \n",
       "3                           0  ...                   0                   0   \n",
       "4                           0  ...                   0                   0   \n",
       "\n",
       "   Reco_Policy_Cat_22  Reco_Policy_Cat_3  Reco_Policy_Cat_4  \\\n",
       "0                   0                  0                  0   \n",
       "1                   0                  0                  0   \n",
       "2                   0                  0                  0   \n",
       "3                   0                  0                  0   \n",
       "4                   0                  0                  0   \n",
       "\n",
       "   Reco_Policy_Cat_5  Reco_Policy_Cat_6  Reco_Policy_Cat_7  Reco_Policy_Cat_8  \\\n",
       "0                  1                  0                  0                  0   \n",
       "1                  0                  0                  0                  0   \n",
       "2                  0                  0                  0                  0   \n",
       "3                  0                  0                  0                  0   \n",
       "4                  1                  0                  0                  0   \n",
       "\n",
       "   Reco_Policy_Cat_9  \n",
       "0                  0  \n",
       "1                  0  \n",
       "2                  0  \n",
       "3                  0  \n",
       "4                  0  \n",
       "\n",
       "[5 rows x 85 columns]"
      ]
     },
     "execution_count": 44,
     "metadata": {},
     "output_type": "execute_result"
    }
   ],
   "source": [
    "df_test[feature_cols].head()"
   ]
  },
  {
   "cell_type": "code",
   "execution_count": 45,
   "id": "specific-conviction",
   "metadata": {},
   "outputs": [
    {
     "name": "stdout",
     "output_type": "stream",
     "text": [
      "<class 'pandas.core.frame.DataFrame'>\n",
      "Int64Index: 21805 entries, 0 to 21804\n",
      "Data columns (total 85 columns):\n",
      " #   Column                          Non-Null Count  Dtype  \n",
      "---  ------                          --------------  -----  \n",
      " 0   Upper_Age                       21805 non-null  float64\n",
      " 1   Lower_Age                       21805 non-null  float64\n",
      " 2   Holding_Policy_Duration         21805 non-null  float64\n",
      " 3   Holding_Policy_Type             21805 non-null  float64\n",
      " 4   Reco_Policy_Premium             21805 non-null  float64\n",
      " 5   Region_Code_Bins_1-1000         21805 non-null  uint8  \n",
      " 6   Region_Code_Bins_1000-2000      21805 non-null  uint8  \n",
      " 7   Region_Code_Bins_2000-3000      21805 non-null  uint8  \n",
      " 8   Region_Code_Bins_3000-4000      21805 non-null  uint8  \n",
      " 9   Region_Code_Bins_4000-5000      21805 non-null  uint8  \n",
      " 10  Region_Code_Bins_5000-6000      21805 non-null  uint8  \n",
      " 11  Region_Code_Bins_6000-7000      21805 non-null  uint8  \n",
      " 12  City_Code_C1                    21805 non-null  uint8  \n",
      " 13  City_Code_C10                   21805 non-null  uint8  \n",
      " 14  City_Code_C11                   21805 non-null  uint8  \n",
      " 15  City_Code_C12                   21805 non-null  uint8  \n",
      " 16  City_Code_C13                   21805 non-null  uint8  \n",
      " 17  City_Code_C14                   21805 non-null  uint8  \n",
      " 18  City_Code_C15                   21805 non-null  uint8  \n",
      " 19  City_Code_C16                   21805 non-null  uint8  \n",
      " 20  City_Code_C17                   21805 non-null  uint8  \n",
      " 21  City_Code_C18                   21805 non-null  uint8  \n",
      " 22  City_Code_C19                   21805 non-null  uint8  \n",
      " 23  City_Code_C2                    21805 non-null  uint8  \n",
      " 24  City_Code_C20                   21805 non-null  uint8  \n",
      " 25  City_Code_C21                   21805 non-null  uint8  \n",
      " 26  City_Code_C22                   21805 non-null  uint8  \n",
      " 27  City_Code_C23                   21805 non-null  uint8  \n",
      " 28  City_Code_C24                   21805 non-null  uint8  \n",
      " 29  City_Code_C25                   21805 non-null  uint8  \n",
      " 30  City_Code_C26                   21805 non-null  uint8  \n",
      " 31  City_Code_C27                   21805 non-null  uint8  \n",
      " 32  City_Code_C28                   21805 non-null  uint8  \n",
      " 33  City_Code_C29                   21805 non-null  uint8  \n",
      " 34  City_Code_C3                    21805 non-null  uint8  \n",
      " 35  City_Code_C30                   21805 non-null  uint8  \n",
      " 36  City_Code_C31                   21805 non-null  uint8  \n",
      " 37  City_Code_C32                   21805 non-null  uint8  \n",
      " 38  City_Code_C33                   21805 non-null  uint8  \n",
      " 39  City_Code_C34                   21805 non-null  uint8  \n",
      " 40  City_Code_C35                   21805 non-null  uint8  \n",
      " 41  City_Code_C36                   21805 non-null  uint8  \n",
      " 42  City_Code_C4                    21805 non-null  uint8  \n",
      " 43  City_Code_C5                    21805 non-null  uint8  \n",
      " 44  City_Code_C6                    21805 non-null  uint8  \n",
      " 45  City_Code_C7                    21805 non-null  uint8  \n",
      " 46  City_Code_C8                    21805 non-null  uint8  \n",
      " 47  City_Code_C9                    21805 non-null  uint8  \n",
      " 48  Accomodation_Type_Owned         21805 non-null  uint8  \n",
      " 49  Accomodation_Type_Rented        21805 non-null  uint8  \n",
      " 50  Reco_Insurance_Type_Individual  21805 non-null  uint8  \n",
      " 51  Reco_Insurance_Type_Joint       21805 non-null  uint8  \n",
      " 52  Is_Spouse_No                    21805 non-null  uint8  \n",
      " 53  Is_Spouse_Yes                   21805 non-null  uint8  \n",
      " 54  Health Indicator_X1             21805 non-null  uint8  \n",
      " 55  Health Indicator_X2             21805 non-null  uint8  \n",
      " 56  Health Indicator_X3             21805 non-null  uint8  \n",
      " 57  Health Indicator_X4             21805 non-null  uint8  \n",
      " 58  Health Indicator_X5             21805 non-null  uint8  \n",
      " 59  Health Indicator_X6             21805 non-null  uint8  \n",
      " 60  Health Indicator_X7             21805 non-null  uint8  \n",
      " 61  Health Indicator_X8             21805 non-null  uint8  \n",
      " 62  Health Indicator_X9             21805 non-null  uint8  \n",
      " 63  Reco_Policy_Cat_1               21805 non-null  uint8  \n",
      " 64  Reco_Policy_Cat_10              21805 non-null  uint8  \n",
      " 65  Reco_Policy_Cat_11              21805 non-null  uint8  \n",
      " 66  Reco_Policy_Cat_12              21805 non-null  uint8  \n",
      " 67  Reco_Policy_Cat_13              21805 non-null  uint8  \n",
      " 68  Reco_Policy_Cat_14              21805 non-null  uint8  \n",
      " 69  Reco_Policy_Cat_15              21805 non-null  uint8  \n",
      " 70  Reco_Policy_Cat_16              21805 non-null  uint8  \n",
      " 71  Reco_Policy_Cat_17              21805 non-null  uint8  \n",
      " 72  Reco_Policy_Cat_18              21805 non-null  uint8  \n",
      " 73  Reco_Policy_Cat_19              21805 non-null  uint8  \n",
      " 74  Reco_Policy_Cat_2               21805 non-null  uint8  \n",
      " 75  Reco_Policy_Cat_20              21805 non-null  uint8  \n",
      " 76  Reco_Policy_Cat_21              21805 non-null  uint8  \n",
      " 77  Reco_Policy_Cat_22              21805 non-null  uint8  \n",
      " 78  Reco_Policy_Cat_3               21805 non-null  uint8  \n",
      " 79  Reco_Policy_Cat_4               21805 non-null  uint8  \n",
      " 80  Reco_Policy_Cat_5               21805 non-null  uint8  \n",
      " 81  Reco_Policy_Cat_6               21805 non-null  uint8  \n",
      " 82  Reco_Policy_Cat_7               21805 non-null  uint8  \n",
      " 83  Reco_Policy_Cat_8               21805 non-null  uint8  \n",
      " 84  Reco_Policy_Cat_9               21805 non-null  uint8  \n",
      "dtypes: float64(5), uint8(80)\n",
      "memory usage: 2.7 MB\n"
     ]
    }
   ],
   "source": [
    "df_test[feature_cols].info()"
   ]
  },
  {
   "cell_type": "markdown",
   "id": "addressed-museum",
   "metadata": {},
   "source": [
    "### Stacking\n",
    "#### Stacking is an ensemble machine learning algorithm that learns how to combine the predictions from multiple well-performing machine learning models and use it to give better predictions."
   ]
  },
  {
   "cell_type": "markdown",
   "id": "exclusive-rendering",
   "metadata": {},
   "source": [
    "#### The get_stacking() function below defines the StackingClassifier model by first defining a list of tuples for the eight base models as estimators, then defining the logistic regression model as final estimator to combine the predictions from the base models using 5-fold cross-validation."
   ]
  },
  {
   "cell_type": "code",
   "execution_count": 46,
   "id": "behavioral-public",
   "metadata": {},
   "outputs": [],
   "source": [
    "def get_stacking():\n",
    "    level0 = list()\n",
    "    level0.append(('lr', LogisticRegression()))\n",
    "    level0.append(('cart', DecisionTreeClassifier()))\n",
    "    level0.append(('ridge', RidgeClassifier()))\n",
    "    level0.append(('sgd', SGDClassifier()))\n",
    "    level0.append(('rf', RandomForestClassifier()))\n",
    "    level0.append(('ada', AdaBoostClassifier(learning_rate=0.01)))\n",
    "    level0.append(('lgbm', lgb.LGBMClassifier(boosting_type='dart')))\n",
    "    level1 = LogisticRegression()\n",
    "    model = StackingClassifier(estimators=level0, final_estimator=level1, cv=5)\n",
    "    return model"
   ]
  },
  {
   "cell_type": "markdown",
   "id": "printable-vietnam",
   "metadata": {},
   "source": [
    "#### Then we will fit our training data in our stacking model and finally predict our test data and then generate a csv file having the predictions according to the ID."
   ]
  },
  {
   "cell_type": "code",
   "execution_count": null,
   "id": "civil-terminal",
   "metadata": {},
   "outputs": [],
   "source": [
    "final_model = get_stacking()\n",
    "final_model.fit(df_train[feature_cols], df_train[label_col])\n",
    "eval_score = accuracy_score(df_eval[label_col], final_model.predict(df_eval[feature_cols]))\n",
    "roc_score = roc_auc_score(df_eval[label_col], final_model.predict_proba(df_eval[feature_cols])[:, 1])\n",
    "print('Eval ACC: {}'.format(eval_score))\n",
    "print('ROC: {}'.format(roc_score))\n",
    "val_pred= final_model.predict_proba(df_test[feature_cols])[:,1]\n",
    "output = pd.DataFrame({'ID': test_id_col,'Response': val_pred})\n",
    "output.to_csv('submission.csv', index=False)"
   ]
  },
  {
   "cell_type": "markdown",
   "id": "massive-stuart",
   "metadata": {},
   "source": [
    "### The End"
   ]
  }
 ],
 "metadata": {
  "kernelspec": {
   "display_name": "Python 3",
   "language": "python",
   "name": "python3"
  },
  "language_info": {
   "codemirror_mode": {
    "name": "ipython",
    "version": 3
   },
   "file_extension": ".py",
   "mimetype": "text/x-python",
   "name": "python",
   "nbconvert_exporter": "python",
   "pygments_lexer": "ipython3",
   "version": "3.9.2"
  }
 },
 "nbformat": 4,
 "nbformat_minor": 5
}
